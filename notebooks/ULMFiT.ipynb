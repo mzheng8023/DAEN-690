{
 "cells": [
  {
   "cell_type": "code",
   "execution_count": 1,
   "metadata": {},
   "outputs": [],
   "source": [
    "#near duplicate detection and elimination\n",
    "#next steps - obtain more data\n",
    "#near entity recognition - spacy\n",
    "#relabeling\n",
    "\n",
    "# import libraries\n",
    "import fastai\n",
    "from fastai import *\n",
    "from fastai.text import * \n",
    "import pandas as pd\n",
    "import numpy as np\n",
    "from functools import partial\n",
    "import io\n",
    "import os"
   ]
  },
  {
   "cell_type": "code",
   "execution_count": 2,
   "metadata": {},
   "outputs": [
    {
     "data": {
      "text/html": [
       "<div>\n",
       "<style scoped>\n",
       "    .dataframe tbody tr th:only-of-type {\n",
       "        vertical-align: middle;\n",
       "    }\n",
       "\n",
       "    .dataframe tbody tr th {\n",
       "        vertical-align: top;\n",
       "    }\n",
       "\n",
       "    .dataframe thead th {\n",
       "        text-align: right;\n",
       "    }\n",
       "</style>\n",
       "<table border=\"1\" class=\"dataframe\">\n",
       "  <thead>\n",
       "    <tr style=\"text-align: right;\">\n",
       "      <th></th>\n",
       "      <th>headline</th>\n",
       "      <th>label</th>\n",
       "    </tr>\n",
       "  </thead>\n",
       "  <tbody>\n",
       "    <tr>\n",
       "      <th>438</th>\n",
       "      <td>amazon opens preorders for cinderella annivers...</td>\n",
       "      <td>1</td>\n",
       "    </tr>\n",
       "    <tr>\n",
       "      <th>439</th>\n",
       "      <td>google researchers add attention to augment co...</td>\n",
       "      <td>1</td>\n",
       "    </tr>\n",
       "    <tr>\n",
       "      <th>440</th>\n",
       "      <td>android q the choice of the final name for goo...</td>\n",
       "      <td>1</td>\n",
       "    </tr>\n",
       "    <tr>\n",
       "      <th>441</th>\n",
       "      <td>google to phase out works with nestprogram in ...</td>\n",
       "      <td>1</td>\n",
       "    </tr>\n",
       "    <tr>\n",
       "      <th>442</th>\n",
       "      <td>google announces major android auto update wit...</td>\n",
       "      <td>1</td>\n",
       "    </tr>\n",
       "  </tbody>\n",
       "</table>\n",
       "</div>"
      ],
      "text/plain": [
       "                                              headline  label\n",
       "438  amazon opens preorders for cinderella annivers...      1\n",
       "439  google researchers add attention to augment co...      1\n",
       "440  android q the choice of the final name for goo...      1\n",
       "441  google to phase out works with nestprogram in ...      1\n",
       "442  google announces major android auto update wit...      1"
      ]
     },
     "execution_count": 2,
     "metadata": {},
     "output_type": "execute_result"
    }
   ],
   "source": [
    "data_path = '../data/training_test_data/'\n",
    "data = pd.read_csv(data_path + 'after_stock_data_cleaned.csv')\n",
    "colnames = ['headline','source','label']   \n",
    "data.columns = colnames\n",
    "\n",
    "data2 = pd.read_csv(data_path + 'now_data_parsed.csv')\n",
    "\n",
    "data2.columns = ['headline','label']\n",
    "\n",
    "#getting data we have labeled out of the unlabeled data\n",
    "\n",
    "data2_labeled = pd.concat([data2[438:2438], data2[6448:8448],data2[12458:14458],data2[18468:20709],data2[24478:26479]], sort=False)\n",
    "\n",
    "data2_labeled.head()"
   ]
  },
  {
   "cell_type": "code",
   "execution_count": 3,
   "metadata": {},
   "outputs": [
    {
     "data": {
      "text/html": [
       "<div>\n",
       "<style scoped>\n",
       "    .dataframe tbody tr th:only-of-type {\n",
       "        vertical-align: middle;\n",
       "    }\n",
       "\n",
       "    .dataframe tbody tr th {\n",
       "        vertical-align: top;\n",
       "    }\n",
       "\n",
       "    .dataframe thead th {\n",
       "        text-align: right;\n",
       "    }\n",
       "</style>\n",
       "<table border=\"1\" class=\"dataframe\">\n",
       "  <thead>\n",
       "    <tr style=\"text-align: right;\">\n",
       "      <th></th>\n",
       "      <th>headline</th>\n",
       "      <th>label</th>\n",
       "    </tr>\n",
       "  </thead>\n",
       "  <tbody>\n",
       "    <tr>\n",
       "      <th>6466</th>\n",
       "      <td>intel don't expect google stadia will affect c...</td>\n",
       "      <td>1</td>\n",
       "    </tr>\n",
       "    <tr>\n",
       "      <th>1542</th>\n",
       "      <td>The Sony noise cancelling headphones that blow...</td>\n",
       "      <td>1</td>\n",
       "    </tr>\n",
       "    <tr>\n",
       "      <th>603</th>\n",
       "      <td>buy amazon better than buffett did</td>\n",
       "      <td>1</td>\n",
       "    </tr>\n",
       "    <tr>\n",
       "      <th>18547</th>\n",
       "      <td>how do you use google team drives especially f...</td>\n",
       "      <td>1</td>\n",
       "    </tr>\n",
       "    <tr>\n",
       "      <th>19678</th>\n",
       "      <td>missing schoolboy found safe and well and reun...</td>\n",
       "      <td>0</td>\n",
       "    </tr>\n",
       "  </tbody>\n",
       "</table>\n",
       "</div>"
      ],
      "text/plain": [
       "                                                headline  label\n",
       "6466   intel don't expect google stadia will affect c...      1\n",
       "1542   The Sony noise cancelling headphones that blow...      1\n",
       "603                   buy amazon better than buffett did      1\n",
       "18547  how do you use google team drives especially f...      1\n",
       "19678  missing schoolboy found safe and well and reun...      0"
      ]
     },
     "execution_count": 3,
     "metadata": {},
     "output_type": "execute_result"
    }
   ],
   "source": [
    "#concatenate our data to their data\n",
    "\n",
    "from sklearn.utils import shuffle\n",
    "\n",
    "data = pd.DataFrame({'headline':data['headline'], 'label':data['label']}, columns=['headline', 'label'])\n",
    "\n",
    "df_union = shuffle(pd.concat([data, data2_labeled], sort=False))"
   ]
  },
  {
   "cell_type": "code",
   "execution_count": 4,
   "metadata": {},
   "outputs": [
    {
     "data": {
      "text/plain": [
       "1    11962\n",
       "0     2223\n",
       "Name: label, dtype: int64"
      ]
     },
     "execution_count": 4,
     "metadata": {},
     "output_type": "execute_result"
    }
   ],
   "source": [
    "#this is less balanced now with the addition of new data and new labeling rules\n",
    "df_union['label'].value_counts()"
   ]
  },
  {
   "cell_type": "code",
   "execution_count": 5,
   "metadata": {},
   "outputs": [],
   "source": [
    "import re\n",
    "\n",
    "df_union['headline'] = df_union['headline'].str.replace(\"[^a-zA-Z]\", \" \")"
   ]
  },
  {
   "cell_type": "code",
   "execution_count": 6,
   "metadata": {},
   "outputs": [
    {
     "name": "stdout",
     "output_type": "stream",
     "text": [
      "231580\n"
     ]
    }
   ],
   "source": [
    "word_count = sum(len(headline.split(' ')) for headline in df_union['headline'])\n",
    "\n",
    "print(word_count)"
   ]
  },
  {
   "cell_type": "code",
   "execution_count": 7,
   "metadata": {},
   "outputs": [
    {
     "name": "stdout",
     "output_type": "stream",
     "text": [
      "11348, 2837\n"
     ]
    }
   ],
   "source": [
    "from sklearn.model_selection import train_test_split\n",
    "\n",
    "# split data into training and validation set\n",
    "df_trn, df_val = train_test_split(df_union[['label','headline']], stratify = df_union['label'], test_size = 0.2, random_state = 12)\n",
    "print('{}, {}'.format(len(df_trn), len(df_val)))"
   ]
  },
  {
   "cell_type": "code",
   "execution_count": 8,
   "metadata": {},
   "outputs": [
    {
     "name": "stdout",
     "output_type": "stream",
     "text": [
      "27545, 6887\n"
     ]
    },
    {
     "data": {
      "text/html": [
       "<div>\n",
       "<style scoped>\n",
       "    .dataframe tbody tr th:only-of-type {\n",
       "        vertical-align: middle;\n",
       "    }\n",
       "\n",
       "    .dataframe tbody tr th {\n",
       "        vertical-align: top;\n",
       "    }\n",
       "\n",
       "    .dataframe thead th {\n",
       "        text-align: right;\n",
       "    }\n",
       "</style>\n",
       "<table border=\"1\" class=\"dataframe\">\n",
       "  <thead>\n",
       "    <tr style=\"text-align: right;\">\n",
       "      <th></th>\n",
       "      <th>headline</th>\n",
       "      <th>label</th>\n",
       "    </tr>\n",
       "  </thead>\n",
       "  <tbody>\n",
       "    <tr>\n",
       "      <th>0</th>\n",
       "      <td>Apple, Amazon, YouTube: Safer, faster &amp;amp; le...</td>\n",
       "      <td>0</td>\n",
       "    </tr>\n",
       "    <tr>\n",
       "      <th>1</th>\n",
       "      <td>5G Stocks: Will Amazon Dip Its Toes In?</td>\n",
       "      <td>0</td>\n",
       "    </tr>\n",
       "    <tr>\n",
       "      <th>2</th>\n",
       "      <td>Fear of Amazon Creates a Bargain in FedEx Stock</td>\n",
       "      <td>0</td>\n",
       "    </tr>\n",
       "    <tr>\n",
       "      <th>3</th>\n",
       "      <td>Amazon Buyout Buzz Draws Options Bulls to Grub...</td>\n",
       "      <td>0</td>\n",
       "    </tr>\n",
       "    <tr>\n",
       "      <th>4</th>\n",
       "      <td>US Stock Market Overview – Stocks Surge With O...</td>\n",
       "      <td>0</td>\n",
       "    </tr>\n",
       "  </tbody>\n",
       "</table>\n",
       "</div>"
      ],
      "text/plain": [
       "                                            headline  label\n",
       "0  Apple, Amazon, YouTube: Safer, faster &amp; le...      0\n",
       "1            5G Stocks: Will Amazon Dip Its Toes In?      0\n",
       "2    Fear of Amazon Creates a Bargain in FedEx Stock      0\n",
       "3  Amazon Buyout Buzz Draws Options Bulls to Grub...      0\n",
       "4  US Stock Market Overview – Stocks Surge With O...      0"
      ]
     },
     "execution_count": 8,
     "metadata": {},
     "output_type": "execute_result"
    }
   ],
   "source": [
    "unlabeled_headlines = pd.read_csv(r'C:\\Users\\amber\\Documents\\VSE\\DAEN 690\\repo\\DAEN-690\\data\\raw_data\\Nowigence Raw Data.csv')\n",
    "\n",
    "unlabeled_headlines.columns = ['headline']\n",
    "\n",
    "text_df = pd.DataFrame(pd.concat([data['headline'], data2['headline']]))\n",
    "text_df['label'] = 0\n",
    "\n",
    "txt_trn, txt_val = train_test_split(text_df[['label','headline']], stratify = text_df['label'], test_size = 0.2, random_state = 12)\n",
    "\n",
    "print('{}, {}'.format(len(txt_trn), len(txt_val)))\n",
    "\n",
    "text_df.head()"
   ]
  },
  {
   "cell_type": "code",
   "execution_count": 19,
   "metadata": {},
   "outputs": [],
   "source": [
    "# Language model data\n",
    "data_lm = TextLMDataBunch.from_df(train_df = txt_trn, valid_df = txt_val, path = \"\", num_workers = 0)\n",
    "\n",
    "# Classifier model data\n",
    "data_clas = TextClasDataBunch.from_df(path = \"\", train_df = df_trn, valid_df = df_val, vocab=data_lm.train_ds.vocab, bs=32, num_workers = 0)"
   ]
  },
  {
   "cell_type": "code",
   "execution_count": 13,
   "metadata": {},
   "outputs": [],
   "source": [
    "\n",
    "#data_lm.save('models/data_lm_export.pkl')\n",
    "#data_clas.save('models/data_clas_export.pkl')\n",
    "\n",
    "#data_lm = load_data('models/data_lm_export.pkl')\n",
    "\n",
    "#data_clas = load_data('models/data_clas_export.pkl', bs=1)\n",
    "\n",
    "learn = language_model_learner(data_lm, arch=AWD_LSTM, drop_mult=0.5)"
   ]
  },
  {
   "cell_type": "code",
   "execution_count": null,
   "metadata": {},
   "outputs": [],
   "source": [
    "learn.fit_one_cycle(1, 1e-2)"
   ]
  },
  {
   "cell_type": "code",
   "execution_count": 12,
   "metadata": {},
   "outputs": [
    {
     "data": {
      "text/html": [
       "<table border=\"1\" class=\"dataframe\">\n",
       "  <thead>\n",
       "    <tr style=\"text-align: left;\">\n",
       "      <th>epoch</th>\n",
       "      <th>train_loss</th>\n",
       "      <th>valid_loss</th>\n",
       "      <th>accuracy</th>\n",
       "      <th>time</th>\n",
       "    </tr>\n",
       "  </thead>\n",
       "  <tbody>\n",
       "    <tr>\n",
       "      <td>0</td>\n",
       "      <td>4.094942</td>\n",
       "      <td>4.154446</td>\n",
       "      <td>0.317313</td>\n",
       "      <td>27:39</td>\n",
       "    </tr>\n",
       "    <tr>\n",
       "      <td>1</td>\n",
       "      <td>3.924717</td>\n",
       "      <td>3.988525</td>\n",
       "      <td>0.338732</td>\n",
       "      <td>27:36</td>\n",
       "    </tr>\n",
       "    <tr>\n",
       "      <td>2</td>\n",
       "      <td>3.477757</td>\n",
       "      <td>3.821446</td>\n",
       "      <td>0.366554</td>\n",
       "      <td>27:36</td>\n",
       "    </tr>\n",
       "    <tr>\n",
       "      <td>3</td>\n",
       "      <td>2.888181</td>\n",
       "      <td>3.715166</td>\n",
       "      <td>0.389741</td>\n",
       "      <td>27:36</td>\n",
       "    </tr>\n",
       "    <tr>\n",
       "      <td>4</td>\n",
       "      <td>2.436256</td>\n",
       "      <td>3.743557</td>\n",
       "      <td>0.393670</td>\n",
       "      <td>27:44</td>\n",
       "    </tr>\n",
       "  </tbody>\n",
       "</table>"
      ],
      "text/plain": [
       "<IPython.core.display.HTML object>"
      ]
     },
     "metadata": {},
     "output_type": "display_data"
    }
   ],
   "source": [
    "learn.unfreeze()\n",
    "learn.fit_one_cycle(5, 1e-2)"
   ]
  },
  {
   "cell_type": "code",
   "execution_count": 20,
   "metadata": {},
   "outputs": [],
   "source": [
    "#I probably don't need to import all of these...I'll do more research to figure out just what I'm using below\n",
    "\n",
    "from fastai.torch_core import *\n",
    "from fastai.callback import *\n",
    "from fastai.layers import *\n",
    "from fastai.basic_train import LearnerCallback\n",
    "\n",
    "#based on fastai's built in fbeta and accuracy metrics - the fbeta that is built in only works on one hot encoded multiclass targets\n",
    "\n",
    "def fscore(y_pred:Tensor, y_true:Tensor, thresh:float=0.2, beta:float=1, eps:float=1e-9, sigmoid:bool=True)->Rank0Tensor:\n",
    "    \"Computes the f_beta between `preds` and `targets`\"\n",
    "    beta2 = beta ** 2\n",
    "    n = y_true.shape[0]\n",
    "    if sigmoid: y_pred = y_pred.sigmoid()\n",
    "    y_pred = y_pred.argmax(dim=-1).view(n,-1)\n",
    "    y_true = y_true.view(n,-1)\n",
    "    TP = (y_pred*y_true).float().sum()\n",
    "    prec = TP/(y_pred.float().sum()+eps)\n",
    "    rec = TP/(y_true.float().sum()+eps)\n",
    "    res = (prec*rec)/(prec*beta2+rec+eps)*(1+beta2)\n",
    "    return res.float().mean()"
   ]
  },
  {
   "cell_type": "code",
   "execution_count": 21,
   "metadata": {},
   "outputs": [],
   "source": [
    "#learn.save_encoder('ft_enc')\n",
    "learn = text_classifier_learner(data_clas, arch=AWD_LSTM, drop_mult=0.7, metrics = fscore)\n",
    "learn.load_encoder('ft_enc')"
   ]
  },
  {
   "cell_type": "code",
   "execution_count": 22,
   "metadata": {},
   "outputs": [
    {
     "data": {
      "text/html": [
       "<table border=\"1\" class=\"dataframe\">\n",
       "  <thead>\n",
       "    <tr style=\"text-align: left;\">\n",
       "      <th>epoch</th>\n",
       "      <th>train_loss</th>\n",
       "      <th>valid_loss</th>\n",
       "      <th>fscore</th>\n",
       "      <th>time</th>\n",
       "    </tr>\n",
       "  </thead>\n",
       "  <tbody>\n",
       "    <tr>\n",
       "      <td>0</td>\n",
       "      <td>0.380662</td>\n",
       "      <td>0.297038</td>\n",
       "      <td>0.916706</td>\n",
       "      <td>08:37</td>\n",
       "    </tr>\n",
       "    <tr>\n",
       "      <td>1</td>\n",
       "      <td>0.345088</td>\n",
       "      <td>0.296458</td>\n",
       "      <td>0.915642</td>\n",
       "      <td>1:28:28</td>\n",
       "    </tr>\n",
       "    <tr>\n",
       "      <td>2</td>\n",
       "      <td>0.315869</td>\n",
       "      <td>0.296315</td>\n",
       "      <td>0.921305</td>\n",
       "      <td>17:22</td>\n",
       "    </tr>\n",
       "    <tr>\n",
       "      <td>3</td>\n",
       "      <td>0.309613</td>\n",
       "      <td>0.285506</td>\n",
       "      <td>0.921199</td>\n",
       "      <td>14:21</td>\n",
       "    </tr>\n",
       "    <tr>\n",
       "      <td>4</td>\n",
       "      <td>0.300211</td>\n",
       "      <td>0.284238</td>\n",
       "      <td>0.920988</td>\n",
       "      <td>18:12</td>\n",
       "    </tr>\n",
       "  </tbody>\n",
       "</table>"
      ],
      "text/plain": [
       "<IPython.core.display.HTML object>"
      ]
     },
     "metadata": {},
     "output_type": "display_data"
    }
   ],
   "source": [
    "learn.fit_one_cycle(5, 1e-2)"
   ]
  },
  {
   "cell_type": "code",
   "execution_count": 17,
   "metadata": {},
   "outputs": [
    {
     "data": {
      "text/html": [
       "<table border=\"1\" class=\"dataframe\">\n",
       "  <thead>\n",
       "    <tr style=\"text-align: left;\">\n",
       "      <th>epoch</th>\n",
       "      <th>train_loss</th>\n",
       "      <th>valid_loss</th>\n",
       "      <th>fscore</th>\n",
       "      <th>time</th>\n",
       "    </tr>\n",
       "  </thead>\n",
       "  <tbody>\n",
       "    <tr>\n",
       "      <td>0</td>\n",
       "      <td>0.315457</td>\n",
       "      <td>0.283867</td>\n",
       "      <td>0.929309</td>\n",
       "      <td>21:00</td>\n",
       "    </tr>\n",
       "  </tbody>\n",
       "</table>"
      ],
      "text/plain": [
       "<IPython.core.display.HTML object>"
      ]
     },
     "metadata": {},
     "output_type": "display_data"
    }
   ],
   "source": [
    "learn.freeze_to(-2)\n",
    "learn.fit_one_cycle(1, slice(1e-2/(2.6**4),1e-2), moms=(0.8,0.7))"
   ]
  },
  {
   "cell_type": "code",
   "execution_count": 70,
   "metadata": {},
   "outputs": [],
   "source": [
    "error_analysis = pd.DataFrame(pd.read_csv(r'C:\\Users\\amber\\Documents\\VSE\\DAEN 690\\repo\\DAEN-690\\data\\output_data\\error_analysis.csv'))\n",
    "predictions = learn.get_preds()\n",
    "#learn.show_results()\n",
    "#error_analysis.head()"
   ]
  },
  {
   "cell_type": "code",
   "execution_count": 71,
   "metadata": {},
   "outputs": [
    {
     "data": {
      "image/png": "[encoded data removed]",
      "text/plain": [
       "<Figure size 432x288 with 1 Axes>"
      ]
     },
     "metadata": {
      "needs_background": "light"
     },
     "output_type": "display_data"
    }
   ],
   "source": [
    "txt_ci = TextClassificationInterpretation.from_learner(learn)\n",
    "txt_ci.plot_confusion_matrix()"
   ]
  },
  {
   "cell_type": "code",
   "execution_count": 72,
   "metadata": {},
   "outputs": [
    {
     "data": {
      "text/html": [
       "<table border=\"1\" class=\"dataframe\">\n",
       "  <thead>\n",
       "    <tr style=\"text-align: right;\">\n",
       "      <th>Text</th>\n",
       "      <th>Prediction</th>\n",
       "      <th>Actual</th>\n",
       "      <th>Loss</th>\n",
       "      <th>Probability</th>\n",
       "    </tr>\n",
       "  </thead>\n",
       "  <tbody>\n",
       "    <tr>\n",
       "      <td>xxbos xxmaj apple xxmaj amazon youtube xxmaj safer faster amp less annoying</td>\n",
       "      <td>1</td>\n",
       "      <td>0</td>\n",
       "      <td>5.06</td>\n",
       "      <td>0.01</td>\n",
       "    </tr>\n",
       "    <tr>\n",
       "      <td>xxbos google chrome new settings page lands in canary</td>\n",
       "      <td>1</td>\n",
       "      <td>1</td>\n",
       "      <td>4.96</td>\n",
       "      <td>0.99</td>\n",
       "    </tr>\n",
       "    <tr>\n",
       "      <td>xxbos daily crunch amazon backs deliveroo</td>\n",
       "      <td>1</td>\n",
       "      <td>1</td>\n",
       "      <td>4.81</td>\n",
       "      <td>0.99</td>\n",
       "    </tr>\n",
       "    <tr>\n",
       "      <td>xxbos avoid getting a ticket get xxunk xxunk car mount for amazon deals</td>\n",
       "      <td>1</td>\n",
       "      <td>1</td>\n",
       "      <td>4.54</td>\n",
       "      <td>0.99</td>\n",
       "    </tr>\n",
       "    <tr>\n",
       "      <td>xxbos huge amazonowned whole foods xxunk crypto by accepting bitcoin</td>\n",
       "      <td>1</td>\n",
       "      <td>0</td>\n",
       "      <td>4.18</td>\n",
       "      <td>0.02</td>\n",
       "    </tr>\n",
       "    <tr>\n",
       "      <td>xxbos xxmaj renault board to vote next week on merger with xxmaj fiat xxmaj chrysler</td>\n",
       "      <td>1</td>\n",
       "      <td>1</td>\n",
       "      <td>4.08</td>\n",
       "      <td>0.98</td>\n",
       "    </tr>\n",
       "    <tr>\n",
       "      <td>xxbos google pixel a vs pixel an inhouse competition</td>\n",
       "      <td>1</td>\n",
       "      <td>1</td>\n",
       "      <td>3.97</td>\n",
       "      <td>0.98</td>\n",
       "    </tr>\n",
       "    <tr>\n",
       "      <td>xxbos reliance jio reportedly working on a super app expected to compete with amazon xxunk news firstpost</td>\n",
       "      <td>1</td>\n",
       "      <td>1</td>\n",
       "      <td>3.89</td>\n",
       "      <td>0.98</td>\n",
       "    </tr>\n",
       "    <tr>\n",
       "      <td>xxbos xxmaj is the xxmaj world xxmaj ready for xxmaj more xxmaj music from xxmaj lindsay xxmaj xxunk</td>\n",
       "      <td>1</td>\n",
       "      <td>1</td>\n",
       "      <td>3.68</td>\n",
       "      <td>0.97</td>\n",
       "    </tr>\n",
       "    <tr>\n",
       "      <td>xxbos ios xxmaj the iphone and ipad models that won t be able to update to new operating system</td>\n",
       "      <td>1</td>\n",
       "      <td>1</td>\n",
       "      <td>3.46</td>\n",
       "      <td>0.97</td>\n",
       "    </tr>\n",
       "  </tbody>\n",
       "</table>"
      ],
      "text/plain": [
       "<IPython.core.display.HTML object>"
      ]
     },
     "metadata": {},
     "output_type": "display_data"
    }
   ],
   "source": [
    "txt_ci.show_top_losses(10)"
   ]
  },
  {
   "cell_type": "code",
   "execution_count": null,
   "metadata": {},
   "outputs": [],
   "source": [
    "params = hkl.load('resnet-18-export.hkl')\n",
    "\n",
    "# convert numpy arrays to torch Variables\n",
    "for k in sorted(params.keys()):\n",
    "    v = params[k]\n",
    "    print(k, v.shape)\n",
    "    params[k] = Variable(torch.from_numpy(v), requires_grad=True)"
   ]
  }
 ],
 "metadata": {
  "kernelspec": {
   "display_name": "Python 3",
   "language": "python",
   "name": "python3"
  },
  "language_info": {
   "codemirror_mode": {
    "name": "ipython",
    "version": 3
   },
   "file_extension": ".py",
   "mimetype": "text/x-python",
   "name": "python",
   "nbconvert_exporter": "python",
   "pygments_lexer": "ipython3",
   "version": "3.7.1"
  }
 },
 "nbformat": 4,
 "nbformat_minor": 2
}
