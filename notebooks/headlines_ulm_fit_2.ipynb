{
 "cells": [
  {
   "cell_type": "code",
   "execution_count": 18,
   "metadata": {},
   "outputs": [],
   "source": [
    "#near duplicate detection and elimination\n",
    "#next steps - obtain more data\n",
    "#near entity recognition - spacy\n",
    "#relabeling\n",
    "\n",
    "# import libraries\n",
    "import fastai\n",
    "from fastai import *\n",
    "from fastai.text import * \n",
    "import pandas as pd\n",
    "import numpy as np\n",
    "from functools import partial\n",
    "import io\n",
    "import os"
   ]
  },
  {
   "cell_type": "code",
   "execution_count": 19,
   "metadata": {},
   "outputs": [],
   "source": [
    "data_path = '../data/training_test_data/'\n",
    "data = pd.read_csv(data_path + 'after_stock_data.csv')\n",
    "colnames = ['headline','source','label']   \n",
    "data.columns = colnames\n",
    "\n",
    "data2 = pd.read_csv(data_path + 'labeled_data.csv')\n"
   ]
  },
  {
   "cell_type": "code",
   "execution_count": 20,
   "metadata": {},
   "outputs": [
    {
     "data": {
      "text/html": [
       "<div>\n",
       "<style scoped>\n",
       "    .dataframe tbody tr th:only-of-type {\n",
       "        vertical-align: middle;\n",
       "    }\n",
       "\n",
       "    .dataframe tbody tr th {\n",
       "        vertical-align: top;\n",
       "    }\n",
       "\n",
       "    .dataframe thead th {\n",
       "        text-align: right;\n",
       "    }\n",
       "</style>\n",
       "<table border=\"1\" class=\"dataframe\">\n",
       "  <thead>\n",
       "    <tr style=\"text-align: right;\">\n",
       "      <th></th>\n",
       "      <th>headline</th>\n",
       "      <th>source</th>\n",
       "      <th>label</th>\n",
       "    </tr>\n",
       "  </thead>\n",
       "  <tbody>\n",
       "    <tr>\n",
       "      <th>0</th>\n",
       "      <td>Apple, Amazon, YouTube: Safer, faster &amp;amp; le...</td>\n",
       "      <td>USA TODAY</td>\n",
       "      <td>0</td>\n",
       "    </tr>\n",
       "    <tr>\n",
       "      <th>1</th>\n",
       "      <td>5G Stocks: Will Amazon Dip Its Toes In?</td>\n",
       "      <td>InvestorPlace</td>\n",
       "      <td>0</td>\n",
       "    </tr>\n",
       "    <tr>\n",
       "      <th>2</th>\n",
       "      <td>Fear of Amazon Creates a Bargain in FedEx Stock</td>\n",
       "      <td>InvestorPlace</td>\n",
       "      <td>0</td>\n",
       "    </tr>\n",
       "    <tr>\n",
       "      <th>3</th>\n",
       "      <td>Amazon Buyout Buzz Draws Options Bulls to Grub...</td>\n",
       "      <td>Schaeffer's Investment Research</td>\n",
       "      <td>0</td>\n",
       "    </tr>\n",
       "    <tr>\n",
       "      <th>4</th>\n",
       "      <td>US Stock Market Overview – Stocks Surge With O...</td>\n",
       "      <td>FX Empire</td>\n",
       "      <td>0</td>\n",
       "    </tr>\n",
       "  </tbody>\n",
       "</table>\n",
       "</div>"
      ],
      "text/plain": [
       "                                            headline  \\\n",
       "0  Apple, Amazon, YouTube: Safer, faster &amp; le...   \n",
       "1            5G Stocks: Will Amazon Dip Its Toes In?   \n",
       "2    Fear of Amazon Creates a Bargain in FedEx Stock   \n",
       "3  Amazon Buyout Buzz Draws Options Bulls to Grub...   \n",
       "4  US Stock Market Overview – Stocks Surge With O...   \n",
       "\n",
       "                            source  label  \n",
       "0                        USA TODAY      0  \n",
       "1                    InvestorPlace      0  \n",
       "2                    InvestorPlace      0  \n",
       "3  Schaeffer's Investment Research      0  \n",
       "4                        FX Empire      0  "
      ]
     },
     "execution_count": 20,
     "metadata": {},
     "output_type": "execute_result"
    }
   ],
   "source": [
    "#dataset specific cleansing and concatenation\n",
    "\n",
    "#data[data['source'].str.find(' via ') > -1]['source'].str[:data['source'].str.find(' via ')]\n",
    "\n",
    "for i, row in data[data['source'].str.find(' via ') > -1].iterrows():\n",
    "  data.at[i,'source'] = data.at[i,'source'][:data.at[i,'source'].find(' via ')].strip()\n",
    "\n",
    "data.head()"
   ]
  },
  {
   "cell_type": "code",
   "execution_count": 8,
   "metadata": {},
   "outputs": [
    {
     "data": {
      "text/html": [
       "<div>\n",
       "<style scoped>\n",
       "    .dataframe tbody tr th:only-of-type {\n",
       "        vertical-align: middle;\n",
       "    }\n",
       "\n",
       "    .dataframe tbody tr th {\n",
       "        vertical-align: top;\n",
       "    }\n",
       "\n",
       "    .dataframe thead th {\n",
       "        text-align: right;\n",
       "    }\n",
       "</style>\n",
       "<table border=\"1\" class=\"dataframe\">\n",
       "  <thead>\n",
       "    <tr style=\"text-align: right;\">\n",
       "      <th></th>\n",
       "      <th>headlines</th>\n",
       "      <th>relevancy</th>\n",
       "    </tr>\n",
       "  </thead>\n",
       "  <tbody>\n",
       "    <tr>\n",
       "      <th>0</th>\n",
       "      <td>Nissan revs up emotion in latest Leaf campaign...</td>\n",
       "      <td>1</td>\n",
       "    </tr>\n",
       "    <tr>\n",
       "      <th>1</th>\n",
       "      <td>Renault and Nissan Meet to Talk Fiat - Bloomberg</td>\n",
       "      <td>1</td>\n",
       "    </tr>\n",
       "    <tr>\n",
       "      <th>2</th>\n",
       "      <td>Lifted Nissan NV Packs Host Of Gnarly Off-Road...</td>\n",
       "      <td>1</td>\n",
       "    </tr>\n",
       "    <tr>\n",
       "      <th>3</th>\n",
       "      <td>Nissan Destination Frontier Is An Approachable...</td>\n",
       "      <td>1</td>\n",
       "    </tr>\n",
       "    <tr>\n",
       "      <th>4</th>\n",
       "      <td>With its hands-free system, Nissan could beat ...</td>\n",
       "      <td>1</td>\n",
       "    </tr>\n",
       "  </tbody>\n",
       "</table>\n",
       "</div>"
      ],
      "text/plain": [
       "                                           headlines  relevancy\n",
       "0  Nissan revs up emotion in latest Leaf campaign...          1\n",
       "1   Renault and Nissan Meet to Talk Fiat - Bloomberg          1\n",
       "2  Lifted Nissan NV Packs Host Of Gnarly Off-Road...          1\n",
       "3  Nissan Destination Frontier Is An Approachable...          1\n",
       "4  With its hands-free system, Nissan could beat ...          1"
      ]
     },
     "execution_count": 8,
     "metadata": {},
     "output_type": "execute_result"
    }
   ],
   "source": [
    "data2.head()"
   ]
  },
  {
   "cell_type": "code",
   "execution_count": 21,
   "metadata": {},
   "outputs": [],
   "source": [
    "sources = []\n",
    "headlines = []\n",
    "\n",
    "for i, row in data2.iterrows():\n",
    "    sources.append(data2.at[i, 'headlines'][len(data2.at[i, 'headlines'])-data2.at[i, 'headlines'][::-1].find('-'):].strip())\n",
    "    headlines.append(data2.at[i, 'headlines'][:len(data2.at[i, 'headlines'])-data2.at[i, 'headlines'][::-1].find('-')-1].strip())                                \n",
    "    \n",
    "sources[:10] \n",
    "headlines[:10] \n",
    "\n",
    "clean_data2 = pd.DataFrame({'headline':headlines, 'source':sources, 'label':data2['relevancy']}, columns=colnames)"
   ]
  },
  {
   "cell_type": "code",
   "execution_count": 22,
   "metadata": {},
   "outputs": [
    {
     "data": {
      "text/html": [
       "<div>\n",
       "<style scoped>\n",
       "    .dataframe tbody tr th:only-of-type {\n",
       "        vertical-align: middle;\n",
       "    }\n",
       "\n",
       "    .dataframe tbody tr th {\n",
       "        vertical-align: top;\n",
       "    }\n",
       "\n",
       "    .dataframe thead th {\n",
       "        text-align: right;\n",
       "    }\n",
       "</style>\n",
       "<table border=\"1\" class=\"dataframe\">\n",
       "  <thead>\n",
       "    <tr style=\"text-align: right;\">\n",
       "      <th></th>\n",
       "      <th>headline</th>\n",
       "      <th>source</th>\n",
       "      <th>label</th>\n",
       "    </tr>\n",
       "  </thead>\n",
       "  <tbody>\n",
       "    <tr>\n",
       "      <th>0</th>\n",
       "      <td>Apple, Amazon, YouTube: Safer, faster &amp;amp; le...</td>\n",
       "      <td>USA TODAY</td>\n",
       "      <td>0</td>\n",
       "    </tr>\n",
       "    <tr>\n",
       "      <th>1</th>\n",
       "      <td>5G Stocks: Will Amazon Dip Its Toes In?</td>\n",
       "      <td>InvestorPlace</td>\n",
       "      <td>0</td>\n",
       "    </tr>\n",
       "    <tr>\n",
       "      <th>2</th>\n",
       "      <td>Fear of Amazon Creates a Bargain in FedEx Stock</td>\n",
       "      <td>InvestorPlace</td>\n",
       "      <td>0</td>\n",
       "    </tr>\n",
       "    <tr>\n",
       "      <th>3</th>\n",
       "      <td>Amazon Buyout Buzz Draws Options Bulls to Grub...</td>\n",
       "      <td>Schaeffer's Investment Research</td>\n",
       "      <td>0</td>\n",
       "    </tr>\n",
       "    <tr>\n",
       "      <th>4</th>\n",
       "      <td>US Stock Market Overview – Stocks Surge With O...</td>\n",
       "      <td>FX Empire</td>\n",
       "      <td>0</td>\n",
       "    </tr>\n",
       "  </tbody>\n",
       "</table>\n",
       "</div>"
      ],
      "text/plain": [
       "                                            headline  \\\n",
       "0  Apple, Amazon, YouTube: Safer, faster &amp; le...   \n",
       "1            5G Stocks: Will Amazon Dip Its Toes In?   \n",
       "2    Fear of Amazon Creates a Bargain in FedEx Stock   \n",
       "3  Amazon Buyout Buzz Draws Options Bulls to Grub...   \n",
       "4  US Stock Market Overview – Stocks Surge With O...   \n",
       "\n",
       "                            source  label  \n",
       "0                        USA TODAY      0  \n",
       "1                    InvestorPlace      0  \n",
       "2                    InvestorPlace      0  \n",
       "3  Schaeffer's Investment Research      0  \n",
       "4                        FX Empire      0  "
      ]
     },
     "execution_count": 22,
     "metadata": {},
     "output_type": "execute_result"
    }
   ],
   "source": [
    "#concatenate our data to their data\n",
    "\n",
    "df_union = pd.concat([data, clean_data2])\n",
    "\n",
    "df_union.head()"
   ]
  },
  {
   "cell_type": "code",
   "execution_count": 26,
   "metadata": {},
   "outputs": [],
   "source": [
    "###placeholder cell, shingle and near duplicate elimination\n",
    " \n",
    " \n",
    "def get_shingles(doc, size):\n",
    "    shingles = set()\n",
    "    if len(doc) > size:\n",
    "        for i in range(0, len(doc)-size+1):\n",
    "            shingles.add(doc[i:i+size])\n",
    "    return shingles\n",
    " \n",
    "def jaccard(set1, set2):\n",
    "    x = len(set1.intersection(set2))\n",
    "    y = len(set1.union(set2))\n",
    "    return x / float(y)\n",
    "\n",
    "shingles = []\n",
    "\n",
    "for text in df_union['headline']:\n",
    "    shingles.append(get_shingles(text, 4))\n",
    "\n",
    "colnames.append('shingles')\n",
    "\n",
    "df_shingles = pd.DataFrame({'headline':df_union['headline'], 'source':df_union['source'], 'label':df_union['label'], 'shingles':shingles}, columns=colnames)\n",
    "\n",
    "#print(shingles[:5])\n",
    "\n",
    "#print(jaccard(shingles1, shingles2), file1, file2)\n",
    "\n",
    "#for i in range(i, len(data_union['headline']):\n",
    "#for j in range(i,len(data_union['headline'])):\n",
    "#print(jaccard(shingles1, shingles2), file1, file2)"
   ]
  },
  {
   "cell_type": "code",
   "execution_count": 23,
   "metadata": {},
   "outputs": [
    {
     "data": {
      "text/plain": [
       "1    2429\n",
       "0    1959\n",
       "Name: label, dtype: int64"
      ]
     },
     "execution_count": 23,
     "metadata": {},
     "output_type": "execute_result"
    }
   ],
   "source": [
    "df_union['label'].value_counts()"
   ]
  },
  {
   "cell_type": "code",
   "execution_count": 27,
   "metadata": {},
   "outputs": [],
   "source": [
    "import re\n",
    "\n",
    "df_union['headline'] = df_union['headline'].str.replace(\"[^a-zA-Z]\", \" \")"
   ]
  },
  {
   "cell_type": "code",
   "execution_count": 28,
   "metadata": {},
   "outputs": [],
   "source": [
    "#word_count = sum(len(headline) for headline in df_union['headline'])\n",
    "\n",
    "#print(word_count)"
   ]
  },
  {
   "cell_type": "code",
   "execution_count": 14,
   "metadata": {},
   "outputs": [
    {
     "name": "stdout",
     "output_type": "stream",
     "text": [
      "3510,878\n"
     ]
    }
   ],
   "source": [
    "from sklearn.model_selection import train_test_split\n",
    "\n",
    "# split data into training and validation set\n",
    "df_trn, df_val = train_test_split(df_union[['label','headline']], stratify = df_union['label'], test_size = 0.2, random_state = 12)\n",
    "print(str(len(df_trn))+ ',' + str(len(df_val)))"
   ]
  },
  {
   "cell_type": "code",
   "execution_count": 48,
   "metadata": {},
   "outputs": [],
   "source": [
    "unlabeled_headlines = pd.read_csv(r'C:\\Users\\amber\\Documents\\VSE\\DAEN 690\\repo\\DAEN-690\\data\\raw_data\\Nowigence Raw Data.csv')\n",
    "\n",
    "unlabeled_headlines.columns = ['headline']\n",
    "\n",
    "text_df = pd.DataFrame(pd.concat([df_union['headline'], unlabeled_headlines['headline']]))\n",
    "text_df['label'] = 0\n",
    "\n",
    "txt_trn, txt_val = train_test_split(text_df[['label','headline']], stratify = text_df['label'], test_size = 0.2, random_state = 12)"
   ]
  },
  {
   "cell_type": "code",
   "execution_count": 49,
   "metadata": {},
   "outputs": [],
   "source": [
    "# Language model data\n",
    "data_lm = TextLMDataBunch.from_df(train_df = txt_trn, valid_df = txt_val, path = \"\")\n",
    "\n",
    "# Classifier model data\n",
    "data_clas = TextClasDataBunch.from_df(path = \"\", train_df = df_trn, valid_df = df_val, vocab=data_lm.train_ds.vocab, bs=32)"
   ]
  },
  {
   "cell_type": "code",
   "execution_count": 50,
   "metadata": {},
   "outputs": [],
   "source": [
    "learn = language_model_learner(data_lm, arch=AWD_LSTM, drop_mult=0.5)"
   ]
  },
  {
   "cell_type": "code",
   "execution_count": 51,
   "metadata": {},
   "outputs": [
    {
     "data": {
      "text/html": [
       "<table border=\"1\" class=\"dataframe\">\n",
       "  <thead>\n",
       "    <tr style=\"text-align: left;\">\n",
       "      <th>epoch</th>\n",
       "      <th>train_loss</th>\n",
       "      <th>valid_loss</th>\n",
       "      <th>accuracy</th>\n",
       "      <th>time</th>\n",
       "    </tr>\n",
       "  </thead>\n",
       "  <tbody>\n",
       "    <tr>\n",
       "      <td>0</td>\n",
       "      <td>2.756151</td>\n",
       "      <td>2.392476</td>\n",
       "      <td>0.573389</td>\n",
       "      <td>1:55:05</td>\n",
       "    </tr>\n",
       "  </tbody>\n",
       "</table>"
      ],
      "text/plain": [
       "<IPython.core.display.HTML object>"
      ]
     },
     "metadata": {},
     "output_type": "display_data"
    }
   ],
   "source": [
    "learn.fit_one_cycle(1, 1e-2)"
   ]
  },
  {
   "cell_type": "code",
   "execution_count": 91,
   "metadata": {},
   "outputs": [],
   "source": [
    "learn.save_encoder('ft_enc')\n",
    "learn = text_classifier_learner(data_clas, arch=AWD_LSTM, drop_mult=0.7)\n",
    "learn.load_encoder('ft_enc')"
   ]
  },
  {
   "cell_type": "code",
   "execution_count": 92,
   "metadata": {},
   "outputs": [
    {
     "data": {
      "text/html": [
       "<table border=\"1\" class=\"dataframe\">\n",
       "  <thead>\n",
       "    <tr style=\"text-align: left;\">\n",
       "      <th>epoch</th>\n",
       "      <th>train_loss</th>\n",
       "      <th>valid_loss</th>\n",
       "      <th>accuracy</th>\n",
       "      <th>time</th>\n",
       "    </tr>\n",
       "  </thead>\n",
       "  <tbody>\n",
       "    <tr>\n",
       "      <td>0</td>\n",
       "      <td>0.687515</td>\n",
       "      <td>0.626339</td>\n",
       "      <td>0.662870</td>\n",
       "      <td>02:13</td>\n",
       "    </tr>\n",
       "    <tr>\n",
       "      <td>1</td>\n",
       "      <td>0.670726</td>\n",
       "      <td>0.623216</td>\n",
       "      <td>0.644647</td>\n",
       "      <td>02:07</td>\n",
       "    </tr>\n",
       "    <tr>\n",
       "      <td>2</td>\n",
       "      <td>0.660718</td>\n",
       "      <td>0.614979</td>\n",
       "      <td>0.654898</td>\n",
       "      <td>02:02</td>\n",
       "    </tr>\n",
       "  </tbody>\n",
       "</table>"
      ],
      "text/plain": [
       "<IPython.core.display.HTML object>"
      ]
     },
     "metadata": {},
     "output_type": "display_data"
    }
   ],
   "source": [
    "learn.fit_one_cycle(3, 1e-2)"
   ]
  },
  {
   "cell_type": "code",
   "execution_count": null,
   "metadata": {},
   "outputs": [],
   "source": []
  }
 ],
 "metadata": {
  "kernelspec": {
   "display_name": "Python 3",
   "language": "python",
   "name": "python3"
  },
  "language_info": {
   "codemirror_mode": {
    "name": "ipython",
    "version": 3
   },
   "file_extension": ".py",
   "mimetype": "text/x-python",
   "name": "python",
   "nbconvert_exporter": "python",
   "pygments_lexer": "ipython3",
   "version": "3.7.1"
  }
 },
 "nbformat": 4,
 "nbformat_minor": 2
}
